{
 "cells": [
  {
   "cell_type": "markdown",
   "metadata": {},
   "source": [
    "# Install Pypi Packages on ALP Jupyter LAB offline\n",
    "\n",
    "Since Jupyter lab cant connect to the internet for security reasons, this is an alternative way to download python packages on local and install it on ALP Jupyter lab.\n",
    "\n",
    "### Require Linux Environment\n",
    "\n",
    "If your local machine OS isnt a linux based, then its a good idea to run a linux docker container locally. This is needed because certain packages are platform specific and since ALP Jupyter lab runs on linux, the downloaded packages have to be Linux compatible.\n",
    "\n",
    "- Install Docker: https://docs.docker.com/get-docker/\n",
    "- Run the following command\n",
    "```\n",
    "docker run -it jupyter/minimal-notebook:lab-3.4.2 /bin/sh\n",
    "```\n",
    "- Once inside the docker, \n",
    "\t- create a new directory, for example `mkdir mypypi_pkgs`\n",
    "\n",
    "### Download pip Packages\n",
    "\n",
    "- Then run the pip download.\n",
    "```\n",
    "pip download <package-name>\n",
    "```\n",
    "\n",
    "- Tarball the downloaded packages in the current folder\n",
    "```\n",
    "cd ../ && tar -cvzf mypypi_pkgs.tgz mypypi_pkgs\n",
    "```\n",
    "\n",
    "- Exit the container, by running the command `exit`\n",
    "- Then run `docker ps --all -l | grep jupyter/minimal-notebook:lab-3.4.2`, see the container id for the image.\n",
    "- Copy the tarball to your local machine\n",
    "```\n",
    "docker cp <container-id>:/mypypi_pkgs.tgz mypypi_pkgs.tgz\n",
    "```"
   ]
  },
  {
   "cell_type": "markdown",
   "metadata": {},
   "source": [
    "### Create a new Virtual environment"
   ]
  },
  {
   "cell_type": "code",
   "execution_count": null,
   "metadata": {},
   "outputs": [],
   "source": [
    "#Give a name to virtual env\n",
    "!ALP_MYENV=myenv"
   ]
  },
  {
   "cell_type": "code",
   "execution_count": null,
   "metadata": {},
   "outputs": [],
   "source": [
    "#Create a new virtual env\n",
    "!python3 -m venv ${ALP_MYENV} --system-site-packages"
   ]
  },
  {
   "cell_type": "code",
   "execution_count": null,
   "metadata": {},
   "outputs": [],
   "source": [
    "#Activate virtual env\n",
    "!source ${ALP_MYENV}/bin/activate"
   ]
  },
  {
   "cell_type": "code",
   "execution_count": null,
   "metadata": {},
   "outputs": [],
   "source": [
    "#Register the virtual env with ipython kernel\n",
    "!chmod -R 775 /home/jovyan/.ipython\n",
    "!chmod -R 775 /home/jovyan/.local\n",
    "!python -m ipykernel install --user --name=${ALP_MYENV}"
   ]
  },
  {
   "cell_type": "code",
   "execution_count": null,
   "metadata": {},
   "outputs": [],
   "source": [
    "### Refresh the browser and you will now see a new kernel with the name defined for variable ALP_MYENV. "
   ]
  },
  {
   "cell_type": "markdown",
   "metadata": {},
   "source": [
    "### Install Pypi Packages on ALP Jupyter Lab\n",
    "\n",
    "- Upload the mypypi_pkgs.tgz to ALP Jupyter Lab under `tmp` folder. **Please use only tmp folder for these purposes!!**\n",
    "\n",
    "- untar by running the command in a jupyter notebook\n",
    "```\n",
    "!cd /home/jovyan/user/tmp && rm -rf mypypi_pkgs && tar -xvf mypypi_pkgs.tgz\n",
    "```\n",
    "- Run the pip command to install the packages onto jupyternotebook for your created environment\n",
    "```\n",
    "!cd /home/jovyan/user/tmp/mypypi_pkgs && pip -v install *.*\n",
    "```"
   ]
  },
  {
   "cell_type": "code",
   "execution_count": null,
   "metadata": {},
   "outputs": [],
   "source": [
    "#To deactivate the virtual environment\n",
    "!deactivate"
   ]
  }
 ],
 "metadata": {
  "language_info": {
   "name": "python"
  },
  "orig_nbformat": 4
 },
 "nbformat": 4,
 "nbformat_minor": 2
}
